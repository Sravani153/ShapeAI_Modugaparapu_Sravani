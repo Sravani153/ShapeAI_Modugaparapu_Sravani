{
  "nbformat": 4,
  "nbformat_minor": 5,
  "metadata": {
    "kernelspec": {
      "display_name": "Python 3",
      "language": "python",
      "name": "python3"
    },
    "language_info": {
      "codemirror_mode": {
        "name": "ipython",
        "version": 3
      },
      "file_extension": ".py",
      "mimetype": "text/x-python",
      "name": "python",
      "nbconvert_exporter": "python",
      "pygments_lexer": "ipython3",
      "version": "3.8.8"
    },
    "colab": {
      "name": "Modugaparapu_Sravani.ipynb",
      "provenance": [],
      "collapsed_sections": []
    }
  },
  "cells": [
    {
      "cell_type": "markdown",
      "metadata": {
        "id": "7780a405"
      },
      "source": [
        "### DEEP LEARNING PROJECT:"
      ],
      "id": "7780a405"
    },
    {
      "cell_type": "markdown",
      "metadata": {
        "id": "3af1e115"
      },
      "source": [
        "### Importing keras and tensorflow from datasets"
      ],
      "id": "3af1e115"
    },
    {
      "cell_type": "code",
      "metadata": {
        "id": "322af755"
      },
      "source": [
        "from keras.datasets import mnist"
      ],
      "id": "322af755",
      "execution_count": 1,
      "outputs": []
    },
    {
      "cell_type": "code",
      "metadata": {
        "colab": {
          "base_uri": "https://localhost:8080/"
        },
        "id": "372f273f",
        "outputId": "6ecf0599-690a-4c5b-c0c8-26bb99ae56b8"
      },
      "source": [
        "data=mnist.load_data()"
      ],
      "id": "372f273f",
      "execution_count": 2,
      "outputs": [
        {
          "output_type": "stream",
          "text": [
            "Downloading data from https://storage.googleapis.com/tensorflow/tf-keras-datasets/mnist.npz\n",
            "11493376/11490434 [==============================] - 0s 0us/step\n"
          ],
          "name": "stdout"
        }
      ]
    },
    {
      "cell_type": "code",
      "metadata": {
        "colab": {
          "base_uri": "https://localhost:8080/"
        },
        "id": "9f3b688d",
        "outputId": "53ce2b11-a28c-4aee-c5bd-6045799b58ec"
      },
      "source": [
        "type(data)"
      ],
      "id": "9f3b688d",
      "execution_count": 3,
      "outputs": [
        {
          "output_type": "execute_result",
          "data": {
            "text/plain": [
              "tuple"
            ]
          },
          "metadata": {
            "tags": []
          },
          "execution_count": 3
        }
      ]
    },
    {
      "cell_type": "markdown",
      "metadata": {
        "id": "5214caa9"
      },
      "source": [
        "###  Train and test data:"
      ],
      "id": "5214caa9"
    },
    {
      "cell_type": "code",
      "metadata": {
        "id": "25e46efc"
      },
      "source": [
        "(X_train,y_train),(X_test,y_test)= mnist.load_data()"
      ],
      "id": "25e46efc",
      "execution_count": 4,
      "outputs": []
    },
    {
      "cell_type": "code",
      "metadata": {
        "colab": {
          "base_uri": "https://localhost:8080/"
        },
        "id": "e047643b",
        "outputId": "b76fe64c-d2b8-4afc-fac0-1203a7464816"
      },
      "source": [
        "X_train[0].shape"
      ],
      "id": "e047643b",
      "execution_count": 5,
      "outputs": [
        {
          "output_type": "execute_result",
          "data": {
            "text/plain": [
              "(28, 28)"
            ]
          },
          "metadata": {
            "tags": []
          },
          "execution_count": 5
        }
      ]
    },
    {
      "cell_type": "code",
      "metadata": {
        "colab": {
          "base_uri": "https://localhost:8080/"
        },
        "id": "d0b91675",
        "outputId": "3220076f-7edc-4f80-dd91-61db25769132"
      },
      "source": [
        "X_train.shape"
      ],
      "id": "d0b91675",
      "execution_count": 6,
      "outputs": [
        {
          "output_type": "execute_result",
          "data": {
            "text/plain": [
              "(60000, 28, 28)"
            ]
          },
          "metadata": {
            "tags": []
          },
          "execution_count": 6
        }
      ]
    },
    {
      "cell_type": "code",
      "metadata": {
        "id": "22e49603"
      },
      "source": [
        "X_train=X_train.reshape((X_train.shape[0],28*28)).astype('float32')\n",
        "X_test=X_test.reshape((X_test.shape[0],28*28)).astype('float32') ##Reshape training data"
      ],
      "id": "22e49603",
      "execution_count": 7,
      "outputs": []
    },
    {
      "cell_type": "code",
      "metadata": {
        "id": "ca9b5a98"
      },
      "source": [
        "X_train =X_train /255\n",
        "X_test =X_test /255"
      ],
      "id": "ca9b5a98",
      "execution_count": 8,
      "outputs": []
    },
    {
      "cell_type": "code",
      "metadata": {
        "colab": {
          "base_uri": "https://localhost:8080/"
        },
        "id": "a94891f2",
        "outputId": "14746bec-7829-44e7-e642-5b0d6259c944"
      },
      "source": [
        "from keras.utils import np_utils\n",
        "print(y_test.shape)"
      ],
      "id": "a94891f2",
      "execution_count": 9,
      "outputs": [
        {
          "output_type": "stream",
          "text": [
            "(10000,)\n"
          ],
          "name": "stdout"
        }
      ]
    },
    {
      "cell_type": "code",
      "metadata": {
        "id": "fa5495e5"
      },
      "source": [
        "from keras.utils import to_categorical"
      ],
      "id": "fa5495e5",
      "execution_count": 10,
      "outputs": []
    },
    {
      "cell_type": "code",
      "metadata": {
        "id": "5f77bc7f"
      },
      "source": [
        "y_train=np_utils.to_categorical(y_train)\n",
        "y_test=np_utils.to_categorical(y_test)"
      ],
      "id": "5f77bc7f",
      "execution_count": 11,
      "outputs": []
    },
    {
      "cell_type": "code",
      "metadata": {
        "colab": {
          "base_uri": "https://localhost:8080/"
        },
        "id": "e094a9bf",
        "outputId": "f693dc80-afc0-49ef-8f79-4018e3452c52"
      },
      "source": [
        "num_classes=y_test.shape[1]\n",
        "print(y_test.shape)"
      ],
      "id": "e094a9bf",
      "execution_count": 12,
      "outputs": [
        {
          "output_type": "stream",
          "text": [
            "(10000, 10)\n"
          ],
          "name": "stdout"
        }
      ]
    },
    {
      "cell_type": "code",
      "metadata": {
        "id": "f7df3a61"
      },
      "source": [
        "from keras.models import Sequential\n",
        "from keras.layers import Dense"
      ],
      "id": "f7df3a61",
      "execution_count": 13,
      "outputs": []
    },
    {
      "cell_type": "code",
      "metadata": {
        "id": "66b710e4"
      },
      "source": [
        "model= Sequential()\n",
        "model.add(Dense(32,input_dim=28*28,activation='relu'))\n",
        "model.add(Dense(64,activation='relu'))\n",
        "model.add(Dense(10,activation='softmax'))"
      ],
      "id": "66b710e4",
      "execution_count": 14,
      "outputs": []
    },
    {
      "cell_type": "code",
      "metadata": {
        "id": "cb0f4476"
      },
      "source": [
        "model.compile(loss='categorical_crossentropy',optimizer='adam',metrics=['accuracy'])"
      ],
      "id": "cb0f4476",
      "execution_count": 15,
      "outputs": []
    },
    {
      "cell_type": "code",
      "metadata": {
        "colab": {
          "base_uri": "https://localhost:8080/"
        },
        "id": "c9e59469",
        "outputId": "6e4d7a88-003f-491d-a0d2-2ea2df5c9dcd"
      },
      "source": [
        "model.summary()"
      ],
      "id": "c9e59469",
      "execution_count": 16,
      "outputs": [
        {
          "output_type": "stream",
          "text": [
            "Model: \"sequential\"\n",
            "_________________________________________________________________\n",
            "Layer (type)                 Output Shape              Param #   \n",
            "=================================================================\n",
            "dense (Dense)                (None, 32)                25120     \n",
            "_________________________________________________________________\n",
            "dense_1 (Dense)              (None, 64)                2112      \n",
            "_________________________________________________________________\n",
            "dense_2 (Dense)              (None, 10)                650       \n",
            "=================================================================\n",
            "Total params: 27,882\n",
            "Trainable params: 27,882\n",
            "Non-trainable params: 0\n",
            "_________________________________________________________________\n"
          ],
          "name": "stdout"
        }
      ]
    },
    {
      "cell_type": "markdown",
      "metadata": {
        "id": "5af08deb"
      },
      "source": [
        "### Train model"
      ],
      "id": "5af08deb"
    },
    {
      "cell_type": "code",
      "metadata": {
        "colab": {
          "base_uri": "https://localhost:8080/"
        },
        "id": "3c98a4a1",
        "outputId": "2bd1737b-dece-453b-dd3e-21db80dba17f"
      },
      "source": [
        "model.fit(X_train,y_train, validation_split=0.2, epochs=10,batch_size=100)"
      ],
      "id": "3c98a4a1",
      "execution_count": 17,
      "outputs": [
        {
          "output_type": "stream",
          "text": [
            "Epoch 1/10\n",
            "480/480 [==============================] - 2s 4ms/step - loss: 0.8864 - accuracy: 0.7356 - val_loss: 0.2339 - val_accuracy: 0.9323\n",
            "Epoch 2/10\n",
            "480/480 [==============================] - 1s 3ms/step - loss: 0.2312 - accuracy: 0.9329 - val_loss: 0.1856 - val_accuracy: 0.9453\n",
            "Epoch 3/10\n",
            "480/480 [==============================] - 1s 3ms/step - loss: 0.1678 - accuracy: 0.9494 - val_loss: 0.1655 - val_accuracy: 0.9518\n",
            "Epoch 4/10\n",
            "480/480 [==============================] - 1s 3ms/step - loss: 0.1442 - accuracy: 0.9583 - val_loss: 0.1531 - val_accuracy: 0.9563\n",
            "Epoch 5/10\n",
            "480/480 [==============================] - 1s 3ms/step - loss: 0.1245 - accuracy: 0.9635 - val_loss: 0.1360 - val_accuracy: 0.9592\n",
            "Epoch 6/10\n",
            "480/480 [==============================] - 1s 3ms/step - loss: 0.1038 - accuracy: 0.9696 - val_loss: 0.1339 - val_accuracy: 0.9605\n",
            "Epoch 7/10\n",
            "480/480 [==============================] - 1s 3ms/step - loss: 0.0938 - accuracy: 0.9722 - val_loss: 0.1262 - val_accuracy: 0.9632\n",
            "Epoch 8/10\n",
            "480/480 [==============================] - 1s 3ms/step - loss: 0.0853 - accuracy: 0.9740 - val_loss: 0.1256 - val_accuracy: 0.9632\n",
            "Epoch 9/10\n",
            "480/480 [==============================] - 1s 3ms/step - loss: 0.0759 - accuracy: 0.9777 - val_loss: 0.1251 - val_accuracy: 0.9622\n",
            "Epoch 10/10\n",
            "480/480 [==============================] - 1s 3ms/step - loss: 0.0690 - accuracy: 0.9792 - val_loss: 0.1262 - val_accuracy: 0.9620\n"
          ],
          "name": "stdout"
        },
        {
          "output_type": "execute_result",
          "data": {
            "text/plain": [
              "<tensorflow.python.keras.callbacks.History at 0x7f2864357350>"
            ]
          },
          "metadata": {
            "tags": []
          },
          "execution_count": 17
        }
      ]
    },
    {
      "cell_type": "markdown",
      "metadata": {
        "id": "535a42f3"
      },
      "source": [
        "**CheckModel Performance**:"
      ],
      "id": "535a42f3"
    },
    {
      "cell_type": "code",
      "metadata": {
        "colab": {
          "base_uri": "https://localhost:8080/"
        },
        "id": "8ae166d0",
        "outputId": "ce94fa73-9fe4-4ce1-e84a-47e6b862346f"
      },
      "source": [
        "scores=model.evaluate(X_test,y_test)\n",
        "print(scores) ##returns loss and accuracy"
      ],
      "id": "8ae166d0",
      "execution_count": 18,
      "outputs": [
        {
          "output_type": "stream",
          "text": [
            "313/313 [==============================] - 1s 2ms/step - loss: 0.1199 - accuracy: 0.9643\n",
            "[0.11992983520030975, 0.9642999768257141]\n"
          ],
          "name": "stdout"
        }
      ]
    },
    {
      "cell_type": "code",
      "metadata": {
        "id": "c6fee48d"
      },
      "source": [
        ""
      ],
      "id": "c6fee48d",
      "execution_count": null,
      "outputs": []
    }
  ]
}