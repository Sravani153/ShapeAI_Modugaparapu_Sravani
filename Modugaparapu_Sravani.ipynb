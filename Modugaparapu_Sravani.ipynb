{
 "cells": [
  {
   "cell_type": "markdown",
   "id": "7780a405",
   "metadata": {},
   "source": [
    "### DEEP LEARNING PROJECT:"
   ]
  },
  {
   "cell_type": "markdown",
   "id": "3af1e115",
   "metadata": {},
   "source": [
    "### Importing keras and tensorflow from datasets"
   ]
  },
  {
   "cell_type": "code",
   "execution_count": 7,
   "id": "322af755",
   "metadata": {},
   "outputs": [],
   "source": [
    "from keras.datasets import mnist"
   ]
  },
  {
   "cell_type": "code",
   "execution_count": 8,
   "id": "372f273f",
   "metadata": {},
   "outputs": [],
   "source": [
    "data=mnist.load_data()"
   ]
  },
  {
   "cell_type": "code",
   "execution_count": 9,
   "id": "9f3b688d",
   "metadata": {},
   "outputs": [
    {
     "data": {
      "text/plain": [
       "tuple"
      ]
     },
     "execution_count": 9,
     "metadata": {},
     "output_type": "execute_result"
    }
   ],
   "source": [
    "type(data)"
   ]
  },
  {
   "cell_type": "markdown",
   "id": "5214caa9",
   "metadata": {},
   "source": [
    "###  Train and test data:"
   ]
  },
  {
   "cell_type": "code",
   "execution_count": 10,
   "id": "25e46efc",
   "metadata": {},
   "outputs": [],
   "source": [
    "(X_train,y_train),(X_test,y_test)= mnist.load_data()"
   ]
  },
  {
   "cell_type": "code",
   "execution_count": 11,
   "id": "e047643b",
   "metadata": {},
   "outputs": [
    {
     "data": {
      "text/plain": [
       "(28, 28)"
      ]
     },
     "execution_count": 11,
     "metadata": {},
     "output_type": "execute_result"
    }
   ],
   "source": [
    "X_train[0].shape"
   ]
  },
  {
   "cell_type": "code",
   "execution_count": 12,
   "id": "d0b91675",
   "metadata": {},
   "outputs": [
    {
     "data": {
      "text/plain": [
       "(60000, 28, 28)"
      ]
     },
     "execution_count": 12,
     "metadata": {},
     "output_type": "execute_result"
    }
   ],
   "source": [
    "X_train.shape"
   ]
  },
  {
   "cell_type": "code",
   "execution_count": 13,
   "id": "22e49603",
   "metadata": {},
   "outputs": [],
   "source": [
    "X_train=X_train.reshape((X_train.shape[0],28*28)).astype('float32')\n",
    "X_test=X_test.reshape((X_test.shape[0],28*28)).astype('float32') ##Reshape training data"
   ]
  },
  {
   "cell_type": "code",
   "execution_count": 14,
   "id": "ca9b5a98",
   "metadata": {},
   "outputs": [],
   "source": [
    "X_train =X_train /255\n",
    "X_test =X_test /255"
   ]
  },
  {
   "cell_type": "code",
   "execution_count": 15,
   "id": "a94891f2",
   "metadata": {},
   "outputs": [
    {
     "name": "stdout",
     "output_type": "stream",
     "text": [
      "(10000,)\n"
     ]
    }
   ],
   "source": [
    "from keras.utils import np_utils\n",
    "print(y_test.shape)"
   ]
  },
  {
   "cell_type": "code",
   "execution_count": 16,
   "id": "fa5495e5",
   "metadata": {},
   "outputs": [],
   "source": [
    "from keras.utils import to_categorical"
   ]
  },
  {
   "cell_type": "code",
   "execution_count": 17,
   "id": "5f77bc7f",
   "metadata": {},
   "outputs": [],
   "source": [
    "y_train=np_utils.to_categorical(y_train)\n",
    "y_test=np_utils.to_categorical(y_test)"
   ]
  },
  {
   "cell_type": "code",
   "execution_count": 18,
   "id": "e094a9bf",
   "metadata": {},
   "outputs": [
    {
     "name": "stdout",
     "output_type": "stream",
     "text": [
      "(10000, 10)\n"
     ]
    }
   ],
   "source": [
    "num_classes=y_test.shape[1]\n",
    "print(y_test.shape)"
   ]
  },
  {
   "cell_type": "code",
   "execution_count": 19,
   "id": "f7df3a61",
   "metadata": {},
   "outputs": [],
   "source": [
    "from keras.models import Sequential\n",
    "from keras.layers import Dense"
   ]
  },
  {
   "cell_type": "code",
   "execution_count": 20,
   "id": "66b710e4",
   "metadata": {},
   "outputs": [],
   "source": [
    "model= Sequential()\n",
    "model.add(Dense(32,input_dim=28*28,activation='relu'))\n",
    "model.add(Dense(64,activation='relu'))\n",
    "model.add(Dense(10,activation='softmax'))"
   ]
  },
  {
   "cell_type": "code",
   "execution_count": 21,
   "id": "cb0f4476",
   "metadata": {},
   "outputs": [],
   "source": [
    "model.compile(loss='categorical_crossentropy',optimizer='adam',metrics=['accuracy'])"
   ]
  },
  {
   "cell_type": "code",
   "execution_count": 22,
   "id": "c9e59469",
   "metadata": {},
   "outputs": [
    {
     "name": "stdout",
     "output_type": "stream",
     "text": [
      "Model: \"sequential_1\"\n",
      "_________________________________________________________________\n",
      "Layer (type)                 Output Shape              Param #   \n",
      "=================================================================\n",
      "dense_3 (Dense)              (None, 32)                25120     \n",
      "_________________________________________________________________\n",
      "dense_4 (Dense)              (None, 64)                2112      \n",
      "_________________________________________________________________\n",
      "dense_5 (Dense)              (None, 10)                650       \n",
      "=================================================================\n",
      "Total params: 27,882\n",
      "Trainable params: 27,882\n",
      "Non-trainable params: 0\n",
      "_________________________________________________________________\n"
     ]
    }
   ],
   "source": [
    "model.summary()"
   ]
  },
  {
   "cell_type": "markdown",
   "id": "5af08deb",
   "metadata": {},
   "source": [
    "### Train model"
   ]
  },
  {
   "cell_type": "code",
   "execution_count": 23,
   "id": "3c98a4a1",
   "metadata": {},
   "outputs": [
    {
     "name": "stdout",
     "output_type": "stream",
     "text": [
      "Epoch 1/10\n",
      "480/480 [==============================] - 1s 2ms/step - loss: 0.4835 - accuracy: 0.8615 - val_loss: 0.2387 - val_accuracy: 0.9314\n",
      "Epoch 2/10\n",
      "480/480 [==============================] - 1s 1ms/step - loss: 0.2159 - accuracy: 0.9375 - val_loss: 0.1932 - val_accuracy: 0.9424\n",
      "Epoch 3/10\n",
      "480/480 [==============================] - 1s 1ms/step - loss: 0.1707 - accuracy: 0.9507 - val_loss: 0.1614 - val_accuracy: 0.9548\n",
      "Epoch 4/10\n",
      "480/480 [==============================] - 1s 1ms/step - loss: 0.1422 - accuracy: 0.9574 - val_loss: 0.1490 - val_accuracy: 0.9563\n",
      "Epoch 5/10\n",
      "480/480 [==============================] - 1s 1ms/step - loss: 0.1231 - accuracy: 0.9639 - val_loss: 0.1489 - val_accuracy: 0.9557\n",
      "Epoch 6/10\n",
      "480/480 [==============================] - 1s 1ms/step - loss: 0.1089 - accuracy: 0.9680 - val_loss: 0.1351 - val_accuracy: 0.9606\n",
      "Epoch 7/10\n",
      "480/480 [==============================] - 1s 1ms/step - loss: 0.0970 - accuracy: 0.9714 - val_loss: 0.1276 - val_accuracy: 0.9637\n",
      "Epoch 8/10\n",
      "480/480 [==============================] - 1s 2ms/step - loss: 0.0878 - accuracy: 0.9736 - val_loss: 0.1272 - val_accuracy: 0.9639\n",
      "Epoch 9/10\n",
      "480/480 [==============================] - 1s 1ms/step - loss: 0.0795 - accuracy: 0.9764 - val_loss: 0.1185 - val_accuracy: 0.9669\n",
      "Epoch 10/10\n",
      "480/480 [==============================] - 1s 1ms/step - loss: 0.0718 - accuracy: 0.9781 - val_loss: 0.1188 - val_accuracy: 0.9663\n"
     ]
    },
    {
     "data": {
      "text/plain": [
       "<tensorflow.python.keras.callbacks.History at 0x191334336d0>"
      ]
     },
     "execution_count": 23,
     "metadata": {},
     "output_type": "execute_result"
    }
   ],
   "source": [
    "model.fit(X_train,y_train, validation_split=0.2, epochs=10,batch_size=100)"
   ]
  },
  {
   "cell_type": "markdown",
   "id": "535a42f3",
   "metadata": {},
   "source": [
    "**CheckModel Performance**:"
   ]
  },
  {
   "cell_type": "code",
   "execution_count": 25,
   "id": "8ae166d0",
   "metadata": {},
   "outputs": [
    {
     "name": "stdout",
     "output_type": "stream",
     "text": [
      "313/313 [==============================] - 0s 943us/step - loss: 0.1138 - accuracy: 0.9659\n",
      "[0.11381743103265762, 0.9659000039100647]\n"
     ]
    }
   ],
   "source": [
    "scores=model.evaluate(X_test,y_test)\n",
    "print(scores) ##returns loss and accuracy"
   ]
  },
  {
   "cell_type": "code",
   "execution_count": null,
   "id": "c6fee48d",
   "metadata": {},
   "outputs": [],
   "source": []
  }
 ],
 "metadata": {
  "kernelspec": {
   "display_name": "Python 3",
   "language": "python",
   "name": "python3"
  },
  "language_info": {
   "codemirror_mode": {
    "name": "ipython",
    "version": 3
   },
   "file_extension": ".py",
   "mimetype": "text/x-python",
   "name": "python",
   "nbconvert_exporter": "python",
   "pygments_lexer": "ipython3",
   "version": "3.8.8"
  }
 },
 "nbformat": 4,
 "nbformat_minor": 5
}
